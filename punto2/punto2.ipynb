{
 "cells": [
  {
   "cell_type": "code",
   "execution_count": 1,
   "metadata": {},
   "outputs": [],
   "source": [
    "import numpy as np\n",
    "import matplotlib.pyplot as plt"
   ]
  },
  {
   "cell_type": "code",
   "execution_count": 9,
   "metadata": {},
   "outputs": [],
   "source": [
    "datos = np.loadtxt('datos_observacionales.dat')\n",
    "t = datos[:,0]\n",
    "x = datos[:,1]\n",
    "y = datos[:,2]\n",
    "z = datos[:,3]\n",
    "\n",
    "x_obs = x"
   ]
  },
  {
   "cell_type": "code",
   "execution_count": 17,
   "metadata": {},
   "outputs": [],
   "source": [
    "def model(x,param):\n",
    "    n_param = 3\n",
    "    y = 0\n",
    "    for i in range(n_param):\n",
    "        y += param[i] * x**i\n",
    "    return y \n",
    "    \n",
    "def loglikelihood(x_obs, y_obs, sigma_y_obs, param):\n",
    "    d = y_obs -  model(x_obs, param)\n",
    "    d = d/sigma_y_obs\n",
    "    d = -0.5 * np.sum(d**2)\n",
    "    return d\n",
    "\n",
    "def logprior(param): \n",
    "    p = -np.inf\n",
    "    if( 0< np.absolute(param) < 30 ): \n",
    "        p = 0.0\n",
    "    return p"
   ]
  },
  {
   "cell_type": "code",
   "execution_count": 18,
   "metadata": {},
   "outputs": [],
   "source": [
    "def divergence_loglikelihood(x_obs, y_obs, sigma_y_obs, param):\n",
    "    n_param = 3\n",
    "    div = np.ones(n_param)\n",
    "    delta = 1E-5\n",
    "    for i in range(n_param):\n",
    "        delta_parameter = np.zeros(n_param)\n",
    "        delta_parameter[i] = delta\n",
    "        \n",
    "        div[i] = loglikelihood(x_obs, y_obs, sigma_y_obs, param + delta_parameter) \n",
    "        div[i] = div[i] - loglikelihood(x_obs, y_obs, sigma_y_obs, param - delta_parameter)\n",
    "        div[i] = div[i]/(2.0 * delta)\n",
    "    return div"
   ]
  },
  {
   "cell_type": "code",
   "execution_count": 19,
   "metadata": {},
   "outputs": [
    {
     "ename": "TypeError",
     "evalue": "'float' object is not subscriptable",
     "output_type": "error",
     "traceback": [
      "\u001b[0;31m---------------------------------------------------------------------------\u001b[0m",
      "\u001b[0;31mTypeError\u001b[0m                                 Traceback (most recent call last)",
      "\u001b[0;32m<ipython-input-19-c14220776005>\u001b[0m in \u001b[0;36m<module>\u001b[0;34m()\u001b[0m\n\u001b[1;32m      5\u001b[0m \u001b[0mlista_beta\u001b[0m \u001b[0;34m=\u001b[0m \u001b[0;34m[\u001b[0m\u001b[0mnp\u001b[0m\u001b[0;34m.\u001b[0m\u001b[0mrandom\u001b[0m\u001b[0;34m.\u001b[0m\u001b[0mrandom\u001b[0m\u001b[0;34m(\u001b[0m\u001b[0;34m)\u001b[0m\u001b[0;34m]\u001b[0m\u001b[0;34m\u001b[0m\u001b[0m\n\u001b[1;32m      6\u001b[0m \u001b[0;34m\u001b[0m\u001b[0m\n\u001b[0;32m----> 7\u001b[0;31m \u001b[0mlogposterior\u001b[0m \u001b[0;34m=\u001b[0m \u001b[0;34m[\u001b[0m\u001b[0mloglikelihood\u001b[0m\u001b[0;34m(\u001b[0m\u001b[0mx_obs\u001b[0m\u001b[0;34m,\u001b[0m \u001b[0mlista_sigma\u001b[0m\u001b[0;34m[\u001b[0m\u001b[0;36m0\u001b[0m\u001b[0;34m]\u001b[0m\u001b[0;34m,\u001b[0m \u001b[0mlista_rho\u001b[0m\u001b[0;34m[\u001b[0m\u001b[0;36m0\u001b[0m\u001b[0;34m]\u001b[0m\u001b[0;34m,\u001b[0m \u001b[0mlista_beta\u001b[0m\u001b[0;34m[\u001b[0m\u001b[0;36m0\u001b[0m\u001b[0;34m]\u001b[0m\u001b[0;34m)\u001b[0m \u001b[0;34m+\u001b[0m \u001b[0mlogprior\u001b[0m\u001b[0;34m(\u001b[0m\u001b[0mlista_sigma\u001b[0m\u001b[0;34m[\u001b[0m\u001b[0;36m0\u001b[0m\u001b[0;34m]\u001b[0m\u001b[0;34m,\u001b[0m \u001b[0mlista_rho\u001b[0m\u001b[0;34m[\u001b[0m\u001b[0;36m0\u001b[0m\u001b[0;34m]\u001b[0m\u001b[0;34m,\u001b[0m \u001b[0mlista_beta\u001b[0m\u001b[0;34m[\u001b[0m\u001b[0;36m0\u001b[0m\u001b[0;34m]\u001b[0m\u001b[0;34m)\u001b[0m\u001b[0;34m]\u001b[0m\u001b[0;34m\u001b[0m\u001b[0m\n\u001b[0m\u001b[1;32m      8\u001b[0m \u001b[0msigma_delta\u001b[0m \u001b[0;34m=\u001b[0m \u001b[0;36m1.0\u001b[0m\u001b[0;34m\u001b[0m\u001b[0m\n\u001b[1;32m      9\u001b[0m \u001b[0;34m\u001b[0m\u001b[0m\n",
      "\u001b[0;32m<ipython-input-17-fdf2b7f8254a>\u001b[0m in \u001b[0;36mloglikelihood\u001b[0;34m(x_obs, y_obs, sigma_y_obs, param)\u001b[0m\n\u001b[1;32m      7\u001b[0m \u001b[0;34m\u001b[0m\u001b[0m\n\u001b[1;32m      8\u001b[0m \u001b[0;32mdef\u001b[0m \u001b[0mloglikelihood\u001b[0m\u001b[0;34m(\u001b[0m\u001b[0mx_obs\u001b[0m\u001b[0;34m,\u001b[0m \u001b[0my_obs\u001b[0m\u001b[0;34m,\u001b[0m \u001b[0msigma_y_obs\u001b[0m\u001b[0;34m,\u001b[0m \u001b[0mparam\u001b[0m\u001b[0;34m)\u001b[0m\u001b[0;34m:\u001b[0m\u001b[0;34m\u001b[0m\u001b[0m\n\u001b[0;32m----> 9\u001b[0;31m     \u001b[0md\u001b[0m \u001b[0;34m=\u001b[0m \u001b[0my_obs\u001b[0m \u001b[0;34m-\u001b[0m  \u001b[0mmodel\u001b[0m\u001b[0;34m(\u001b[0m\u001b[0mx_obs\u001b[0m\u001b[0;34m,\u001b[0m \u001b[0mparam\u001b[0m\u001b[0;34m)\u001b[0m\u001b[0;34m\u001b[0m\u001b[0m\n\u001b[0m\u001b[1;32m     10\u001b[0m     \u001b[0md\u001b[0m \u001b[0;34m=\u001b[0m \u001b[0md\u001b[0m\u001b[0;34m/\u001b[0m\u001b[0msigma_y_obs\u001b[0m\u001b[0;34m\u001b[0m\u001b[0m\n\u001b[1;32m     11\u001b[0m     \u001b[0md\u001b[0m \u001b[0;34m=\u001b[0m \u001b[0;34m-\u001b[0m\u001b[0;36m0.5\u001b[0m \u001b[0;34m*\u001b[0m \u001b[0mnp\u001b[0m\u001b[0;34m.\u001b[0m\u001b[0msum\u001b[0m\u001b[0;34m(\u001b[0m\u001b[0md\u001b[0m\u001b[0;34m**\u001b[0m\u001b[0;36m2\u001b[0m\u001b[0;34m)\u001b[0m\u001b[0;34m\u001b[0m\u001b[0m\n",
      "\u001b[0;32m<ipython-input-17-fdf2b7f8254a>\u001b[0m in \u001b[0;36mmodel\u001b[0;34m(x, param)\u001b[0m\n\u001b[1;32m      3\u001b[0m     \u001b[0my\u001b[0m \u001b[0;34m=\u001b[0m \u001b[0;36m0\u001b[0m\u001b[0;34m\u001b[0m\u001b[0m\n\u001b[1;32m      4\u001b[0m     \u001b[0;32mfor\u001b[0m \u001b[0mi\u001b[0m \u001b[0;32min\u001b[0m \u001b[0mrange\u001b[0m\u001b[0;34m(\u001b[0m\u001b[0mn_param\u001b[0m\u001b[0;34m)\u001b[0m\u001b[0;34m:\u001b[0m\u001b[0;34m\u001b[0m\u001b[0m\n\u001b[0;32m----> 5\u001b[0;31m         \u001b[0my\u001b[0m \u001b[0;34m+=\u001b[0m \u001b[0mparam\u001b[0m\u001b[0;34m[\u001b[0m\u001b[0mi\u001b[0m\u001b[0;34m]\u001b[0m \u001b[0;34m*\u001b[0m \u001b[0mx\u001b[0m\u001b[0;34m**\u001b[0m\u001b[0mi\u001b[0m\u001b[0;34m\u001b[0m\u001b[0m\n\u001b[0m\u001b[1;32m      6\u001b[0m     \u001b[0;32mreturn\u001b[0m \u001b[0my\u001b[0m\u001b[0;34m\u001b[0m\u001b[0m\n\u001b[1;32m      7\u001b[0m \u001b[0;34m\u001b[0m\u001b[0m\n",
      "\u001b[0;31mTypeError\u001b[0m: 'float' object is not subscriptable"
     ]
    }
   ],
   "source": [
    "N = 50000\n",
    "\n",
    "lista_sigma = [np.random.random()]\n",
    "lista_rho = [np.random.random()]\n",
    "lista_beta = [np.random.random()]\n",
    "\n",
    "logposterior = [loglikelihood(x_obs, lista_sigma[0], lista_rho[0], lista_beta[0]) + logprior(lista_sigma[0], lista_rho[0], lista_beta[0])]\n",
    "sigma_delta = 1.0\n",
    "\n",
    "for i in range(1,N):\n",
    "\n",
    "    propuesta_sigma  = lista_v[i-1] + np.random.normal(loc=0.0, scale=sigma_delta)\n",
    "    propuesta_rho = lista_rho[i-1] + np.random.normal(loc=0.0, scale=sigma_delta)\n",
    "    propuesta_beta = lista_rho[i-1] + np.random.normal(loc=0.0, scale=sigma_delta)\n",
    "    \n",
    "    logposterior_viejo = loglikelihood(x_obs, lista_sigma[i-1], lista_rho[i-1], lista_beta[i-1]) + logprior(lista_sigma[i-1], lista_rho[i-1], lista_beta[i-1])\n",
    "    logposterior_nuevo = loglikelihood(x_obs, propuesta_sigma, propuesta_rho, propuesta_beta) + logprior(propuesta_sigma, propuesta_rho, propuesta_beta)\n",
    "\n",
    "    r = min(1,np.exp(logposterior_nuevo-logposterior_viejo))\n",
    "\n",
    "    alpha = np.random.random()\n",
    "    \n",
    "    if(alpha < r):\n",
    "            lista_sigma.append(propuesta_sigma)\n",
    "            lista_rho.append(propuesta_rho)\n",
    "            lista_beta.append(propuesta_beta)\n",
    "            logposterior.append(logposterior_nuevo)\n",
    "    else:\n",
    "        lista_sigma.append(lista_sigma[i-1])\n",
    "        lista_rho.append(lista_rho[i-1])\n",
    "        lista_beta.append(lista_beta[i-1])\n",
    "        logposterior.append(logposterior_viejo)\n",
    "\n",
    "\n",
    "lista_sigma = np.array(lista_sigma)\n",
    "lista_rho = np.array(lista_rho)\n",
    "lista_beta = np.array(lista_beta)\n",
    "logposterior = np.array(logposterior)"
   ]
  },
  {
   "cell_type": "code",
   "execution_count": null,
   "metadata": {},
   "outputs": [],
   "source": []
  }
 ],
 "metadata": {
  "kernelspec": {
   "display_name": "Python 3",
   "language": "python",
   "name": "python3"
  },
  "language_info": {
   "codemirror_mode": {
    "name": "ipython",
    "version": 3
   },
   "file_extension": ".py",
   "mimetype": "text/x-python",
   "name": "python",
   "nbconvert_exporter": "python",
   "pygments_lexer": "ipython3",
   "version": "3.6.6"
  }
 },
 "nbformat": 4,
 "nbformat_minor": 2
}
